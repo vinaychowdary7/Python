{
 "cells": [
  {
   "cell_type": "markdown",
   "id": "0735daed",
   "metadata": {},
   "source": [
    "# Max"
   ]
  },
  {
   "cell_type": "code",
   "execution_count": 6,
   "id": "3b182a50",
   "metadata": {},
   "outputs": [
    {
     "name": "stdout",
     "output_type": "stream",
     "text": [
      "Enter total numbers in a group5\n",
      "Enter height in cms:180\n",
      "Enter height in cms:160\n",
      "Enter height in cms:159\n",
      "Enter height in cms:175\n",
      "Enter height in cms:173\n",
      "Maximun height is: 180\n"
     ]
    }
   ],
   "source": [
    "#geting max height person in a group\n",
    "l=[]\n",
    "num=int(input(\"Enter total numbers in a group\"))\n",
    "for i in range(num):\n",
    "    x=int(input(\"Enter height in cms:\"))\n",
    "    l.append(x)\n",
    "l.sort()\n",
    "print(\"Maximun height is:\",l[-1])"
   ]
  },
  {
   "cell_type": "markdown",
   "id": "54497fb0",
   "metadata": {},
   "source": [
    "# Min"
   ]
  },
  {
   "cell_type": "code",
   "execution_count": 7,
   "id": "c77fdef8",
   "metadata": {},
   "outputs": [
    {
     "name": "stdout",
     "output_type": "stream",
     "text": [
      "enter number of routes5\n",
      "enter the distances45\n",
      "enter the distances34\n",
      "enter the distances42\n",
      "enter the distances38\n",
      "enter the distances40\n",
      "minimum distance is\n",
      "34\n"
     ]
    }
   ],
   "source": [
    "#geting minimum distance route in a list of routes\n",
    "l=[]\n",
    "num=int(input(\"enter number of routes\"))\n",
    "for i in range(num):\n",
    "    x=int(input(\"enter the distances\"))\n",
    "    l.append(x)\n",
    "l.sort()\n",
    "print(\"minimum distance is\")\n",
    "print(l[0])"
   ]
  },
  {
   "cell_type": "markdown",
   "id": "176e54a7",
   "metadata": {},
   "source": [
    "# Mean"
   ]
  },
  {
   "cell_type": "code",
   "execution_count": 10,
   "id": "690d5a08",
   "metadata": {},
   "outputs": [
    {
     "name": "stdout",
     "output_type": "stream",
     "text": [
      "Enter no of persons:6\n",
      "Enter no of sweets can eat:7\n",
      "Enter no of sweets can eat:8\n",
      "Enter no of sweets can eat:4\n",
      "Enter no of sweets can eat:3\n",
      "Enter no of sweets can eat:5\n",
      "Enter no of sweets can eat:2\n",
      "4.833333333333333\n"
     ]
    }
   ],
   "source": [
    "#Average no of sweets a person can eat in a group of people\n",
    "l1=[]\n",
    "sum=0\n",
    "num=int(input(\"Enter no of persons:\"))\n",
    "for i in range(num):\n",
    "    z=int(input(\"Enter no of sweets can eat:\"))\n",
    "    l1.append(z)\n",
    "for i in range(len(l1)):\n",
    "    sum=sum+l1[i]\n",
    "print(sum/num)"
   ]
  },
  {
   "cell_type": "markdown",
   "id": "5d8f6c02",
   "metadata": {},
   "source": [
    "# Mode"
   ]
  },
  {
   "cell_type": "code",
   "execution_count": 12,
   "id": "aaf56660",
   "metadata": {},
   "outputs": [
    {
     "name": "stdout",
     "output_type": "stream",
     "text": [
      "Enter number of movies released:3\n",
      "Enter name of movie:Veera simha reddy\n",
      "Enter no of tickets booked:500\n",
      "Enter name of movie:Walter veeraiah\n",
      "Enter no of tickets booked:450\n",
      "Enter name of movie:Varasudu\n",
      "Enter no of tickets booked:200\n",
      "Most watched Movie is:  Veera simha reddy\n",
      "It is Booked: 500\n"
     ]
    }
   ],
   "source": [
    "#geting most liked movie by most tickets booked\n",
    "l1=[]\n",
    "l2=[]\n",
    "num=int(input(\"Enter number of movies released:\"))\n",
    "for i in range(num):\n",
    "    name=input(\"Enter name of movie:\")\n",
    "    l1.append(name)\n",
    "    count=int(input(\"Enter no of tickets booked:\"))\n",
    "    l2.append(count)\n",
    "max=0\n",
    "for i in range(len(l2)):\n",
    "    if l2[i]>max:\n",
    "        max=l2[i]\n",
    "index=l2.index(max)\n",
    "print(\"Most watched Movie is: \",l1[index])\n",
    "print(\"It is Booked:\",max)"
   ]
  },
  {
   "cell_type": "markdown",
   "id": "a26cacaa",
   "metadata": {},
   "source": [
    "# Median"
   ]
  },
  {
   "cell_type": "code",
   "execution_count": 7,
   "id": "6cae2fe3",
   "metadata": {},
   "outputs": [
    {
     "name": "stdout",
     "output_type": "stream",
     "text": [
      "Enter no of people:5\n",
      "Enter the age:13\n",
      "Enter the age:14\n",
      "Enter the age:19\n",
      "Enter the age:21\n",
      "Enter the age:25\n",
      "Median age of people is: 19\n"
     ]
    }
   ],
   "source": [
    "l=[]\n",
    "num=int(input(\"Enter no of people:\"))\n",
    "for i in range(num):\n",
    "    z=int(input(\"Enter the age:\"))\n",
    "    l.append(z)\n",
    "l.sort()\n",
    "if len(l)%2==0:\n",
    "    x=len(l)//2\n",
    "    m=(l[x-1]+l[x])/2\n",
    "    print(x)\n",
    "else:\n",
    "    x=len(l)//2\n",
    "    m=l[x]\n",
    "print(\"Median age of people is:\",m)"
   ]
  },
  {
   "cell_type": "markdown",
   "id": "eef4a9a0",
   "metadata": {},
   "source": [
    "# Standard Deviation And Variance"
   ]
  },
  {
   "cell_type": "code",
   "execution_count": 11,
   "id": "214961fc",
   "metadata": {},
   "outputs": [
    {
     "name": "stdout",
     "output_type": "stream",
     "text": [
      "Enter no of persons:5\n",
      "Enter no of sweets can eat:5\n",
      "Enter no of sweets can eat:6\n",
      "Enter no of sweets can eat:7\n",
      "Enter no of sweets can eat:8\n",
      "Enter no of sweets can eat:9\n",
      "Standard Deviation: 1.5811388300841898\n",
      "Variance: 2.5000000000000004\n"
     ]
    }
   ],
   "source": [
    "#Standard Deviation of sweets a person can eat in a group of people\n",
    "import math\n",
    "l1=[]\n",
    "sum=0\n",
    "num=int(input(\"Enter no of persons:\"))\n",
    "for i in range(num):\n",
    "    z=int(input(\"Enter no of sweets can eat:\"))\n",
    "    l1.append(z)\n",
    "for i in range(num):\n",
    "    sum=sum+l1[i]\n",
    "mean=sum/num\n",
    "val=0\n",
    "for i in range(num):\n",
    "    val=val+((l1[i]-mean)**2)\n",
    "sd=math.sqrt((val/(num-1)))\n",
    "print(\"Standard Deviation:\",sd)\n",
    "print(\"Variance:\",sd**2)"
   ]
  }
 ],
 "metadata": {
  "kernelspec": {
   "display_name": "Python 3 (ipykernel)",
   "language": "python",
   "name": "python3"
  },
  "language_info": {
   "codemirror_mode": {
    "name": "ipython",
    "version": 3
   },
   "file_extension": ".py",
   "mimetype": "text/x-python",
   "name": "python",
   "nbconvert_exporter": "python",
   "pygments_lexer": "ipython3",
   "version": "3.9.13"
  }
 },
 "nbformat": 4,
 "nbformat_minor": 5
}
