{
 "cells": [
  {
   "cell_type": "code",
   "execution_count": 19,
   "id": "4e2bd1aa",
   "metadata": {},
   "outputs": [
    {
     "data": {
      "text/plain": [
       "array([[ 5.5, 69. , 25. ],\n",
       "       [ 5.8, 69. , 29. ],\n",
       "       [ 5.7, 63. , 31. ],\n",
       "       [ 5.3, 67. , 19. ],\n",
       "       [ 5.6, 69. , 24. ],\n",
       "       [ 5.9, 61. , 22. ],\n",
       "       [ 5.7, 75. , 28. ],\n",
       "       [ 6.1, 73. , 17. ]])"
      ]
     },
     "execution_count": 19,
     "metadata": {},
     "output_type": "execute_result"
    }
   ],
   "source": [
    "import numpy as np\n",
    "import pandas as pd\n",
    "import json as jn\n",
    "import matplotlib.pyplot as plt\n",
    "heights=np.array([5.5,5.8,5.7,5.3,5.6,5.9,5.7,6.1])\n",
    "weights=np.array([69,69,63,67,69,61,75,73])\n",
    "ages=np.array([25,29,31,19,24,22,28,17])\n",
    "combine=np.array([[0.0,0,0],[0.0,0,0],[0.0,0,0],[0.0,0,0],[0.0,0,0],[0.0,0,0],[0.0,0,0],[0.0,0,0]])\n",
    "for i in range(len(heights)):\n",
    "    new=np.array([heights[i],weights[i],ages[i]])\n",
    "    combine[i]=new\n",
    "combine"
   ]
  },
  {
   "cell_type": "code",
   "execution_count": 20,
   "id": "ac879945",
   "metadata": {},
   "outputs": [
    {
     "data": {
      "text/plain": [
       "[{'Height': 5.5, 'Weight': 69.0, 'Age': 25.0},\n",
       " {'Height': 5.8, 'Weight': 69.0, 'Age': 29.0},\n",
       " {'Height': 5.7, 'Weight': 63.0, 'Age': 31.0},\n",
       " {'Height': 5.3, 'Weight': 67.0, 'Age': 19.0},\n",
       " {'Height': 5.6, 'Weight': 69.0, 'Age': 24.0},\n",
       " {'Height': 5.9, 'Weight': 61.0, 'Age': 22.0},\n",
       " {'Height': 5.7, 'Weight': 75.0, 'Age': 28.0},\n",
       " {'Height': 6.1, 'Weight': 73.0, 'Age': 17.0}]"
      ]
     },
     "execution_count": 20,
     "metadata": {},
     "output_type": "execute_result"
    }
   ],
   "source": [
    "lists=combine.tolist()\n",
    "data = [{'Height': item[0], 'Weight': item[1], 'Age': item[2]} for i, item in enumerate(lists)]\n",
    "with open('myJsonfile', 'w') as Fileobj:\n",
    "    jn.dump(data, Fileobj)\n",
    "data"
   ]
  },
  {
   "cell_type": "code",
   "execution_count": 21,
   "id": "fa6dd33c",
   "metadata": {},
   "outputs": [
    {
     "data": {
      "text/html": [
       "<div>\n",
       "<style scoped>\n",
       "    .dataframe tbody tr th:only-of-type {\n",
       "        vertical-align: middle;\n",
       "    }\n",
       "\n",
       "    .dataframe tbody tr th {\n",
       "        vertical-align: top;\n",
       "    }\n",
       "\n",
       "    .dataframe thead th {\n",
       "        text-align: right;\n",
       "    }\n",
       "</style>\n",
       "<table border=\"1\" class=\"dataframe\">\n",
       "  <thead>\n",
       "    <tr style=\"text-align: right;\">\n",
       "      <th></th>\n",
       "      <th>Height</th>\n",
       "      <th>Weight</th>\n",
       "      <th>Age</th>\n",
       "    </tr>\n",
       "  </thead>\n",
       "  <tbody>\n",
       "    <tr>\n",
       "      <th>0</th>\n",
       "      <td>5.5</td>\n",
       "      <td>69.0</td>\n",
       "      <td>25.0</td>\n",
       "    </tr>\n",
       "    <tr>\n",
       "      <th>1</th>\n",
       "      <td>5.8</td>\n",
       "      <td>69.0</td>\n",
       "      <td>29.0</td>\n",
       "    </tr>\n",
       "    <tr>\n",
       "      <th>2</th>\n",
       "      <td>5.7</td>\n",
       "      <td>63.0</td>\n",
       "      <td>31.0</td>\n",
       "    </tr>\n",
       "    <tr>\n",
       "      <th>3</th>\n",
       "      <td>5.3</td>\n",
       "      <td>67.0</td>\n",
       "      <td>19.0</td>\n",
       "    </tr>\n",
       "    <tr>\n",
       "      <th>4</th>\n",
       "      <td>5.6</td>\n",
       "      <td>69.0</td>\n",
       "      <td>24.0</td>\n",
       "    </tr>\n",
       "    <tr>\n",
       "      <th>5</th>\n",
       "      <td>5.9</td>\n",
       "      <td>61.0</td>\n",
       "      <td>22.0</td>\n",
       "    </tr>\n",
       "    <tr>\n",
       "      <th>6</th>\n",
       "      <td>5.7</td>\n",
       "      <td>75.0</td>\n",
       "      <td>28.0</td>\n",
       "    </tr>\n",
       "    <tr>\n",
       "      <th>7</th>\n",
       "      <td>6.1</td>\n",
       "      <td>73.0</td>\n",
       "      <td>17.0</td>\n",
       "    </tr>\n",
       "  </tbody>\n",
       "</table>\n",
       "</div>"
      ],
      "text/plain": [
       "   Height  Weight   Age\n",
       "0     5.5    69.0  25.0\n",
       "1     5.8    69.0  29.0\n",
       "2     5.7    63.0  31.0\n",
       "3     5.3    67.0  19.0\n",
       "4     5.6    69.0  24.0\n",
       "5     5.9    61.0  22.0\n",
       "6     5.7    75.0  28.0\n",
       "7     6.1    73.0  17.0"
      ]
     },
     "execution_count": 21,
     "metadata": {},
     "output_type": "execute_result"
    }
   ],
   "source": [
    "with open(\"myJsonfile\")as Filejs:\n",
    "    jsondata=jn.load(Filejs)\n",
    "table=pd.json_normalize(jsondata)\n",
    "table"
   ]
  },
  {
   "cell_type": "code",
   "execution_count": 22,
   "id": "0caa3734",
   "metadata": {},
   "outputs": [
    {
     "data": {
      "text/html": [
       "<div>\n",
       "<style scoped>\n",
       "    .dataframe tbody tr th:only-of-type {\n",
       "        vertical-align: middle;\n",
       "    }\n",
       "\n",
       "    .dataframe tbody tr th {\n",
       "        vertical-align: top;\n",
       "    }\n",
       "\n",
       "    .dataframe thead th {\n",
       "        text-align: right;\n",
       "    }\n",
       "</style>\n",
       "<table border=\"1\" class=\"dataframe\">\n",
       "  <thead>\n",
       "    <tr style=\"text-align: right;\">\n",
       "      <th></th>\n",
       "      <th>Height</th>\n",
       "      <th>Weight</th>\n",
       "      <th>Age</th>\n",
       "    </tr>\n",
       "  </thead>\n",
       "  <tbody>\n",
       "    <tr>\n",
       "      <th>1</th>\n",
       "      <td>5.8</td>\n",
       "      <td>69.0</td>\n",
       "      <td>29.0</td>\n",
       "    </tr>\n",
       "    <tr>\n",
       "      <th>2</th>\n",
       "      <td>5.7</td>\n",
       "      <td>63.0</td>\n",
       "      <td>31.0</td>\n",
       "    </tr>\n",
       "    <tr>\n",
       "      <th>4</th>\n",
       "      <td>5.6</td>\n",
       "      <td>69.0</td>\n",
       "      <td>24.0</td>\n",
       "    </tr>\n",
       "    <tr>\n",
       "      <th>5</th>\n",
       "      <td>5.9</td>\n",
       "      <td>61.0</td>\n",
       "      <td>22.0</td>\n",
       "    </tr>\n",
       "  </tbody>\n",
       "</table>\n",
       "</div>"
      ],
      "text/plain": [
       "   Height  Weight   Age\n",
       "1     5.8    69.0  29.0\n",
       "2     5.7    63.0  31.0\n",
       "4     5.6    69.0  24.0\n",
       "5     5.9    61.0  22.0"
      ]
     },
     "execution_count": 22,
     "metadata": {},
     "output_type": "execute_result"
    }
   ],
   "source": [
    "table=table[table[\"Height\"]>5.5]\n",
    "table=table[table['Height']<6.0]\n",
    "table=table[table['Weight']>60]\n",
    "table=table[table['Weight']<70]\n",
    "table=table[table['Age']>18]\n",
    "table"
   ]
  },
  {
   "cell_type": "code",
   "execution_count": 23,
   "id": "c784d39e",
   "metadata": {},
   "outputs": [
    {
     "data": {
      "image/png": "[encoded data removed]",
      "text/plain": [
       "<Figure size 640x480 with 1 Axes>"
      ]
     },
     "metadata": {},
     "output_type": "display_data"
    }
   ],
   "source": [
    "Csvfile=table.to_csv(\"Csvdata\",index=False)\n",
    "graph=pd.read_csv(\"Csvdata\")\n",
    "X=graph['Height']\n",
    "Y=graph['Weight']\n",
    "plt.scatter(X,Y)\n",
    "plt.xlabel=\"Height\"\n",
    "plt.ylabel=\"Weight\"\n",
    "plt.show()"
   ]
  },
  {
   "cell_type": "code",
   "execution_count": 24,
   "id": "8b4a4112",
   "metadata": {},
   "outputs": [
    {
     "data": {
      "image/png": "[encoded data removed]",
      "text/plain": [
       "<Figure size 640x480 with 1 Axes>"
      ]
     },
     "metadata": {},
     "output_type": "display_data"
    }
   ],
   "source": [
    "X=graph['Height']\n",
    "Y=graph['Age']\n",
    "plt.scatter(X,Y)\n",
    "plt.xlabel=\"Height\"\n",
    "plt.ylabel=\"Age\"\n",
    "plt.show()"
   ]
  },
  {
   "cell_type": "code",
   "execution_count": 25,
   "id": "5d3845d2",
   "metadata": {},
   "outputs": [
    {
     "data": {
      "image/png": "[encoded data removed]",
      "text/plain": [
       "<Figure size 640x480 with 1 Axes>"
      ]
     },
     "metadata": {},
     "output_type": "display_data"
    }
   ],
   "source": [
    "X=graph['Age']\n",
    "Y=graph['Weight']\n",
    "plt.scatter(X,Y)\n",
    "plt.xlabel=\"Age\"\n",
    "plt.ylabel=\"Weight\"\n",
    "plt.show()"
   ]
  },
  {
   "cell_type": "code",
   "execution_count": null,
   "id": "0e1479ea",
   "metadata": {},
   "outputs": [],
   "source": []
  }
 ],
 "metadata": {
  "kernelspec": {
   "display_name": "Python 3 (ipykernel)",
   "language": "python",
   "name": "python3"
  },
  "language_info": {
   "codemirror_mode": {
    "name": "ipython",
    "version": 3
   },
   "file_extension": ".py",
   "mimetype": "text/x-python",
   "name": "python",
   "nbconvert_exporter": "python",
   "pygments_lexer": "ipython3",
   "version": "3.9.13"
  }
 },
 "nbformat": 4,
 "nbformat_minor": 5
}
